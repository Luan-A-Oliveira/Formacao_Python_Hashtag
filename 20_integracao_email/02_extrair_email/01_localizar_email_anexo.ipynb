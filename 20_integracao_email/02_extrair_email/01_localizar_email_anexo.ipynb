{
 "cells": [
  {
   "cell_type": "code",
   "execution_count": 1,
   "metadata": {},
   "outputs": [
    {
     "name": "stdout",
     "output_type": "stream",
     "text": [
      "Collecting imap_tools"
     ]
    },
    {
     "name": "stderr",
     "output_type": "stream",
     "text": [
      "\n",
      "[notice] A new release of pip is available: 23.2.1 -> 23.3.1\n",
      "[notice] To update, run: python.exe -m pip install --upgrade pip\n"
     ]
    },
    {
     "name": "stdout",
     "output_type": "stream",
     "text": [
      "\n",
      "  Obtaining dependency information for imap_tools from https://files.pythonhosted.org/packages/28/56/7a512f9190776eb755df0c6be42ddbf9b6695d7fcdce0941118c6eddc2bc/imap_tools-1.4.0-py3-none-any.whl.metadata\n",
      "  Downloading imap_tools-1.4.0-py3-none-any.whl.metadata (20 kB)\n",
      "Downloading imap_tools-1.4.0-py3-none-any.whl (31 kB)\n",
      "Installing collected packages: imap_tools\n",
      "Successfully installed imap_tools-1.4.0\n"
     ]
    }
   ],
   "source": [
    "!pip install imap_tools"
   ]
  },
  {
   "cell_type": "code",
   "execution_count": 2,
   "id": "7b425da8",
   "metadata": {},
   "outputs": [],
   "source": [
    "from imap_tools import MailBox, AND\n",
    "\n",
    "usuario = \"\"\n",
    "senha = \"\"\n",
    "\n",
    "meu_email = MailBox(\"imap.gmail.com\").login(usuario, senha)"
   ]
  },
  {
   "cell_type": "code",
   "execution_count": 10,
   "id": "ebee7f0f",
   "metadata": {},
   "outputs": [
    {
     "name": "stdout",
     "output_type": "stream",
     "text": [
      "Relatório de Vendas de Ontem\n",
      "Prezados, bom dia\n",
      "\n",
      "O faturamento de ontem foi de: R$2,917,311.00\n",
      "A quantidade de produtos foi de: 15,227\n",
      "\n",
      "Abs\n",
      "LiraPython\n",
      "\n",
      "Relatório de Vendas de Ontem\n",
      "Prezados, bom dia\n",
      "\n",
      "O faturamento de ontem foi de: R$2,917,311.00\n",
      "A quantidade de produtos foi de: 15,227\n",
      "\n",
      "Abs\n",
      "LiraPython\n",
      "\n",
      "Relatório de Vendas do Lira\n",
      "Prezados,\n",
      "\n",
      "Segue em anexo o relatório de vendas de outubro.\n",
      "\n",
      "Att.,\n",
      "Lira\n",
      "\n",
      "Relatorio Excel de Vendas\n",
      "Prezados,\n",
      "\n",
      "Segue em anexo o relatório de vendas de outubro.\n",
      "\n",
      "Att.,\n",
      "Lira\n",
      "\n"
     ]
    }
   ],
   "source": [
    "# pegar email que foram enviados por um remetente específico\n",
    "\n",
    "lista_emails = meu_email.fetch(AND(from_=\"\", to=\"\"))\n",
    "for email in lista_emails:\n",
    "    print(email.subject)\n",
    "    print(email.text)"
   ]
  },
  {
   "cell_type": "code",
   "execution_count": 11,
   "id": "24573987",
   "metadata": {},
   "outputs": [],
   "source": [
    "# pegar anexo de um email\n",
    "lista_emails = meu_email.fetch(AND(from_=\"pythonimpressionador@gmail.com\"))\n",
    "for email in lista_emails:\n",
    "    if len(email.attachments) > 0:\n",
    "        for anexo in email.attachments:\n",
    "            if \"RelatorioExcel\" in anexo.filename:\n",
    "                informacoes_anexo = anexo.payload\n",
    "                with open(\"RelatorioExcel.xlsx\", \"wb\") as arquivo_excel:\n",
    "                    arquivo_excel.write(informacoes_anexo)"
   ]
  },
  {
   "cell_type": "code",
   "execution_count": null,
   "id": "4075eb73",
   "metadata": {},
   "outputs": [],
   "source": []
  }
 ],
 "metadata": {
  "kernelspec": {
   "display_name": "Python 3",
   "language": "python",
   "name": "python3"
  },
  "language_info": {
   "codemirror_mode": {
    "name": "ipython",
    "version": 3
   },
   "file_extension": ".py",
   "mimetype": "text/x-python",
   "name": "python",
   "nbconvert_exporter": "python",
   "pygments_lexer": "ipython3",
   "version": "3.11.5"
  }
 },
 "nbformat": 4,
 "nbformat_minor": 5
}
